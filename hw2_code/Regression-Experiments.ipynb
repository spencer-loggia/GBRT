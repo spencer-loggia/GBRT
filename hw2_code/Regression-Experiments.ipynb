{
 "cells": [
  {
   "cell_type": "markdown",
   "metadata": {},
   "source": [
    "# Experiments with regression trees"
   ]
  },
  {
   "cell_type": "code",
   "execution_count": 1,
   "metadata": {},
   "outputs": [],
   "source": [
    "import numpy as np\n",
    "import pylab as pl\n",
    "import models"
   ]
  },
  {
   "cell_type": "markdown",
   "metadata": {},
   "source": [
    "## Generate synthetic data \n",
    "Simulate data from crazy function and add Gaussian noise.\n",
    "n is the number of examples to simulate."
   ]
  },
  {
   "cell_type": "code",
   "execution_count": 2,
   "metadata": {},
   "outputs": [],
   "source": [
    "def generate_synthetic_1d_data(n):\n",
    "    X = np.random.uniform(-20, 20, size=n)\n",
    "    X.sort()\n",
    "    # Crazy function without noise\n",
    "    y_noiseless = np.cos(X) * X\n",
    "    # Add gaussian noise to each data point\n",
    "    y = y_noiseless + np.random.normal(0, 1.5, size=n)\n",
    "    X = X.reshape((n,1))\n",
    "    return X, y, y_noiseless"
   ]
  },
  {
   "cell_type": "code",
   "execution_count": 3,
   "metadata": {},
   "outputs": [
    {
     "data": {
      "image/png": "[encoded data removed]",
      "text/plain": [
       "<Figure size 432x288 with 1 Axes>"
      ]
     },
     "metadata": {
      "needs_background": "light"
     },
     "output_type": "display_data"
    }
   ],
   "source": [
    "# Simulate 500 data points\n",
    "X, y, y_noiseless = generate_synthetic_1d_data(500)\n",
    "\n",
    "pl.scatter(X, y, c='b', s=2, label='noisy');\n",
    "pl.plot(X, y_noiseless, c='r', label='noiseless')\n",
    "pl.legend(loc='best');"
   ]
  },
  {
   "cell_type": "markdown",
   "metadata": {},
   "source": [
    "## Regression trees\n",
    "Visualize regression tree predictions on sythetic data as a function of the maximum depth (max_depth) of the tree."
   ]
  },
  {
   "cell_type": "code",
   "execution_count": null,
   "metadata": {},
   "outputs": [],
   "source": [
    "for max_depth in [3, 5, 10, 15, 20]:\n",
    "    # Fit regression tree\n",
    "    rt = models.RegressionTree(nfeatures = X.shape[1], max_depth = max_depth)\n",
    "    rt.fit(X=X, y=y)\n",
    "    pl.figure()\n",
    "    pl.title(f'RegressionTree(max depth = {max_depth})')\n",
    "    # Plot simulated data before noise was added\n",
    "    pl.plot(X, y_noiseless, c='b', label='noiseless')\n",
    "    # Plot regression tree predicted values\n",
    "    pl.plot(X, rt.predict(X), c='r', label='predicted')\n",
    "    pl.legend(loc='best'); "
   ]
  },
  {
   "cell_type": "markdown",
   "metadata": {},
   "source": [
    "## Gradient-boosted regression tree (GBRT) boosting iteration number\n",
    "Visualize GBRT predictions on sythetic data as a function of the number of number of boosting iterations (n_estimator) used to create the GBRT."
   ]
  },
  {
   "cell_type": "code",
   "execution_count": null,
   "metadata": {},
   "outputs": [],
   "source": [
    "# GBRT hyper-parameters\n",
    "max_depth=3\n",
    "regularization_parameter=.75\n",
    "# Simulate 500 data points\n",
    "X, y, y_noiseless = generate_synthetic_1d_data(500)\n",
    "\n",
    "for n_estimator in [2, 5, 10, 30, 100]:\n",
    "    # Fit the GBR\n",
    "    gbrt = models.GradientBoostedRegressionTree(\n",
    "        nfeatures = X.shape[1], \n",
    "        max_depth = max_depth, \n",
    "        n_estimators = n_estimator, \n",
    "        regularization_parameter = regularization_parameter\n",
    "    )\n",
    "    gbrt.fit(X=X, y=y)\n",
    "    pl.figure()\n",
    "    pl.title(f'GradientRegressionTree(Boosting iterations = {n_estimator})')\n",
    "    # Plot simulated data before noise was added\n",
    "    pl.plot(X, y_noiseless, c='b', label='noiseless')\n",
    "    # Plot regression tree predicted values\n",
    "    pl.plot(X, gbrt.predict(X), c='r', label='predicted')\n",
    "    pl.legend(loc='best');\n"
   ]
  },
  {
   "cell_type": "markdown",
   "metadata": {},
   "source": [
    "## Gradient-boosted regression tree (GBRT) regularization parameter\n",
    "Visualize GBRT predictions on sythetic data as a function of the number of number of the regularization parameter"
   ]
  },
  {
   "cell_type": "code",
   "execution_count": null,
   "metadata": {},
   "outputs": [],
   "source": [
    "# GBRT hyper-parameters\n",
    "max_depth=3\n",
    "n_estimators=20\n",
    "# Simulate 500 data points\n",
    "X, y, y_noiseless = generate_synthetic_1d_data(500)\n",
    "\n",
    "for regularization_parameter in [.1, .3, .6, .9]:\n",
    "    # Fit the GBR\n",
    "    gbrt = models.GradientBoostedRegressionTree(\n",
    "        nfeatures = X.shape[1], \n",
    "        max_depth = max_depth, \n",
    "        n_estimators = n_estimators, \n",
    "        regularization_parameter = regularization_parameter\n",
    "    )\n",
    "    gbrt.fit(X=X, y=y)\n",
    "    pl.figure()\n",
    "    pl.title(f'GradientRegressionTree(Regularization parameter = {regularization_parameter})')\n",
    "    # Plot simulated data before noise was added\n",
    "    pl.plot(X, y_noiseless, c='b', label='noiseless')\n",
    "    # Plot regression tree predicted values\n",
    "    pl.plot(X, gbrt.predict(X), c='r', label='predicted')\n",
    "    pl.legend(loc='best');"
   ]
  },
  {
   "cell_type": "markdown",
   "metadata": {},
   "source": [
    "## Summary \n",
    "At this point, you have successfully run all three experiments in this notebook. Please summarize the emperical results. Try to consider:"
   ]
  },
  {
   "cell_type": "markdown",
   "metadata": {},
   "source": [
    "1. Explain the qualitative differences in regression learned as a function of depth. Should we set the max depth very high or very low?"
   ]
  },
  {
   "cell_type": "markdown",
   "metadata": {},
   "source": [
    "Your response goes here.."
   ]
  },
  {
   "cell_type": "markdown",
   "metadata": {},
   "source": [
    "2. Differences in how regression trees and GBRTs fit the data."
   ]
  },
  {
   "cell_type": "markdown",
   "metadata": {},
   "source": [
    "Your response goes here.."
   ]
  },
  {
   "cell_type": "markdown",
   "metadata": {},
   "source": [
    "3. The trade-off between the regularization parameter and the number of boosting iterations in the GBRT."
   ]
  },
  {
   "cell_type": "markdown",
   "metadata": {},
   "source": [
    "Your response goes here.."
   ]
  },
  {
   "cell_type": "code",
   "execution_count": null,
   "metadata": {},
   "outputs": [],
   "source": []
  }
 ],
 "metadata": {
  "kernelspec": {
   "display_name": "Python 3",
   "language": "python",
   "name": "python3"
  },
  "language_info": {
   "codemirror_mode": {
    "name": "ipython",
    "version": 3
   },
   "file_extension": ".py",
   "mimetype": "text/x-python",
   "name": "python",
   "nbconvert_exporter": "python",
   "pygments_lexer": "ipython3",
   "version": "3.7.4"
  }
 },
 "nbformat": 4,
 "nbformat_minor": 2
}
